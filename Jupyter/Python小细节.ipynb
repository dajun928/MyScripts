{
 "cells": [
  {
   "cell_type": "markdown",
   "metadata": {},
   "source": [
    "#### 1.  Python数组切片, 直接获取某一列"
   ]
  },
  {
   "cell_type": "code",
   "execution_count": 15,
   "metadata": {},
   "outputs": [
    {
     "name": "stdout",
     "output_type": "stream",
     "text": [
      "[[ 0  1  2  3]\n",
      " [ 4  5  6  7]\n",
      " [ 8  9 10 11]]\n",
      "--------------------\n",
      "<class 'numpy.ndarray'>\n",
      "[[0]\n",
      " [4]\n",
      " [8]]\n",
      "--------------------\n",
      "<class 'numpy.ndarray'>\n",
      "[0 4 8]\n"
     ]
    }
   ],
   "source": [
    "import numpy as np\n",
    "array_ = np.array(range(12)).reshape(3, 4)\n",
    "print(array_)\n",
    "\n",
    "print('-'*20)\n",
    "ret = array_[:, 0:1]\n",
    "print(type(ret))\n",
    "print(ret) \n",
    "\n",
    "print('-'*20)\n",
    "ret = array_[:, 0]\n",
    "print(type(ret))\n",
    "print(ret) "
   ]
  },
  {
   "cell_type": "markdown",
   "metadata": {},
   "source": [
    "#### 2. Pandas中获取某一列（对比上面）"
   ]
  },
  {
   "cell_type": "code",
   "execution_count": 13,
   "metadata": {},
   "outputs": [
    {
     "name": "stdout",
     "output_type": "stream",
     "text": [
      "   Age\n",
      "A   18\n",
      "B   19\n",
      "--------------------\n",
      "A    18\n",
      "B    19\n",
      "Name: Age, dtype: int64\n"
     ]
    },
    {
     "name": "stderr",
     "output_type": "stream",
     "text": [
      "/Library/Frameworks/Python.framework/Versions/3.6/lib/python3.6/site-packages/ipykernel_launcher.py:8: DeprecationWarning: \n",
      ".ix is deprecated. Please use\n",
      ".loc for label based indexing or\n",
      ".iloc for positional indexing\n",
      "\n",
      "See the documentation here:\n",
      "http://pandas.pydata.org/pandas-docs/stable/indexing.html#ix-indexer-is-deprecated\n",
      "  \n"
     ]
    }
   ],
   "source": [
    "import pandas as pd\n",
    "df = pd.DataFrame(data=[['Alice', 'girl', 18, 171],\n",
    "                        ['Bob', 'boy', 19, 172],\n",
    "                        ['Tom', 'boy', 17, 173],\n",
    "                        ['Lucy', 'girl', 18, 172]],\n",
    "                  columns=['Name', 'Sex', 'Age', 'Class'],\n",
    "                  index=['A', 'B', 'C', 'D'])\n",
    "print(df.ix[:2, ['Age']])\n",
    "print('-'*20)\n",
    "print(df.ix[:2, 'Age'])"
   ]
  },
  {
   "cell_type": "markdown",
   "metadata": {},
   "source": [
    "#### 3. Python枚举"
   ]
  },
  {
   "cell_type": "code",
   "execution_count": 20,
   "metadata": {},
   "outputs": [
    {
     "name": "stdout",
     "output_type": "stream",
     "text": [
      "{1: 'A', 2: 'B', 3: 'C', 4: 'D', 5: 'E'}\n"
     ]
    }
   ],
   "source": [
    "import string\n",
    "print(dict(enumerate(string.ascii_uppercase[:5], 1)))  # 支持传入开始位置"
   ]
  },
  {
   "cell_type": "code",
   "execution_count": null,
   "metadata": {},
   "outputs": [],
   "source": []
  }
 ],
 "metadata": {
  "kernelspec": {
   "display_name": "Python 3",
   "language": "python",
   "name": "python3"
  },
  "language_info": {
   "codemirror_mode": {
    "name": "ipython",
    "version": 3
   },
   "file_extension": ".py",
   "mimetype": "text/x-python",
   "name": "python",
   "nbconvert_exporter": "python",
   "pygments_lexer": "ipython3",
   "version": "3.6.3"
  }
 },
 "nbformat": 4,
 "nbformat_minor": 2
}

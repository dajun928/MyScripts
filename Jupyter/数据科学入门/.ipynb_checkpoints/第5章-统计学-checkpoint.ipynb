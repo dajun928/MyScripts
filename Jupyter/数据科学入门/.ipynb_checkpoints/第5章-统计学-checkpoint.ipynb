{
 "cells": [
  {
   "cell_type": "markdown",
   "metadata": {},
   "source": [
    "<script type=\"text/javascript\" src=\"http://cdn.mathjax.org/mathjax/latest/MathJax.js?config=default\"></script>\n",
    "[//]: # (注释内容：<> $$公式$$表示行间公式)\n",
    "### 1.描述数据\n",
    "对于任何数据集，最简单的描述方法就是数据的本身，但随着数据规模变大，这就显的不现实，为此我们使用统计来提炼和表达数据的相关特征。"
   ]
  },
  {
   "cell_type": "markdown",
   "metadata": {},
   "source": [
    "### 2. 中心倾向（了解数据中心位置）\n",
    "* 均值(mean 或者 average)\n",
    "* 中位数(median)\n",
    "\n",
    "其他概念：\n",
    "- 分位数：中位数的一个泛化概念，表示少于数据中特定百分比的一个值(中位数表示少于50%的数据的一个值)\n",
    "- 众数：出现次数最多的一个或多个"
   ]
  },
  {
   "cell_type": "markdown",
   "metadata": {},
   "source": [
    "### 3. 离散度\n",
    "离散度是数据的离散程度的一种度量（数据波动程度）\n",
    "* 极差（range）：最大值与最小值之差\n",
    "* 方差（variance）：$$s^2=\\frac{1}{n-1}\\sum_{i=1}^{n}(x_{i}-\\bar{x})^2$$\n",
    "* 标准差（standard deviation）：方差的开平方\n",
    "* 协方差(covariance)：这个概念是方差的一个对应词。方差衡量了单个变量对均值的偏离程度，而协方差衡量了两个变量对均值的串联偏离程度。"
   ]
  },
  {
   "cell_type": "code",
   "execution_count": null,
   "metadata": {},
   "outputs": [],
   "source": []
  }
 ],
 "metadata": {
  "kernelspec": {
   "display_name": "Python 3",
   "language": "python",
   "name": "python3"
  },
  "language_info": {
   "codemirror_mode": {
    "name": "ipython",
    "version": 3
   },
   "file_extension": ".py",
   "mimetype": "text/x-python",
   "name": "python",
   "nbconvert_exporter": "python",
   "pygments_lexer": "ipython3",
   "version": "3.6.3"
  }
 },
 "nbformat": 4,
 "nbformat_minor": 2
}

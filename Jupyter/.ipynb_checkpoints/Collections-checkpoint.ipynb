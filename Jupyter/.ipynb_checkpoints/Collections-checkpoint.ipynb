{
 "cells": [
  {
   "cell_type": "markdown",
   "metadata": {},
   "source": [
    "Collections模块是在内置数据类型（dict、list、set、tuple）的基础上，提供了一些额外的数据类型，常用的有：OrderedDict、defaultdict、nametuple、deque、Counter等"
   ]
  },
  {
   "cell_type": "markdown",
   "metadata": {},
   "source": [
    "### 1.Counter\n",
    "Counter是一个计数器，它实际上是dict的一个子类，也就是它的元素也是无序的"
   ]
  },
  {
   "cell_type": "code",
   "execution_count": 6,
   "metadata": {},
   "outputs": [
    {
     "data": {
      "text/plain": [
       "Counter({'a': 3, 'b': 2, 'c': 3, 'd': 2, 'f': 3})"
      ]
     },
     "execution_count": 6,
     "metadata": {},
     "output_type": "execute_result"
    }
   ],
   "source": [
    "from collections import Counter\n",
    "\n",
    "str_1 = 'dfafaabbccfcd'\n",
    "c_str = Counter(str_1)\n",
    "c_str"
   ]
  },
  {
   "cell_type": "code",
   "execution_count": 8,
   "metadata": {},
   "outputs": [
    {
     "data": {
      "text/plain": [
       "[('f', 3), ('a', 3), ('c', 3)]"
      ]
     },
     "execution_count": 8,
     "metadata": {},
     "output_type": "execute_result"
    }
   ],
   "source": [
    "c_str.most_common(3)  # most_common(n) 返回数量排前n的元素以及数量"
   ]
  },
  {
   "cell_type": "code",
   "execution_count": 10,
   "metadata": {},
   "outputs": [
    {
     "data": {
      "text/plain": [
       "['d', 'd', 'f', 'f', 'f', 'a', 'a', 'a', 'b', 'b', 'c', 'c', 'c']"
      ]
     },
     "execution_count": 10,
     "metadata": {},
     "output_type": "execute_result"
    }
   ],
   "source": [
    "list(c_str.elements())  # .elements() 返回所有元素并且按str_1下标排序"
   ]
  },
  {
   "cell_type": "markdown",
   "metadata": {},
   "source": [
    "利用Counter进行运算，&表示取两个数目中最小的一个(如果只存在一个集合中，则结果集不会存在该元素)，|表示取数目中最大的一个"
   ]
  },
  {
   "cell_type": "code",
   "execution_count": 12,
   "metadata": {},
   "outputs": [
    {
     "name": "stdout",
     "output_type": "stream",
     "text": [
      "Counter({'f': 3, 'a': 3, 'c': 3, 'd': 2, 'b': 2})\n"
     ]
    },
    {
     "data": {
      "text/plain": [
       "Counter({'a': 1, 'b': 1, 'c': 1})"
      ]
     },
     "execution_count": 12,
     "metadata": {},
     "output_type": "execute_result"
    }
   ],
   "source": [
    "print(c_str)\n",
    "c_str & Counter({'a':1, 'b':1, 'c':1})"
   ]
  },
  {
   "cell_type": "code",
   "execution_count": 13,
   "metadata": {},
   "outputs": [
    {
     "data": {
      "text/plain": [
       "Counter({'a': 5, 'b': 2, 'c': 3, 'd': 2, 'f': 20})"
      ]
     },
     "execution_count": 13,
     "metadata": {},
     "output_type": "execute_result"
    }
   ],
   "source": [
    "c_str | Counter(a=5, f=20)  # Counter初始化方式跟字典一样，有多种方式"
   ]
  },
  {
   "cell_type": "code",
   "execution_count": 14,
   "metadata": {},
   "outputs": [
    {
     "data": {
      "text/plain": [
       "Counter({'a': 4, 'b': 3, 'c': 4, 'd': 2, 'f': 3})"
      ]
     },
     "execution_count": 14,
     "metadata": {},
     "output_type": "execute_result"
    }
   ],
   "source": [
    "c_str + Counter({'a':1, 'b':1, 'c':1})"
   ]
  },
  {
   "cell_type": "code",
   "execution_count": 17,
   "metadata": {},
   "outputs": [
    {
     "data": {
      "text/plain": [
       "Counter({'b': 1, 'c': 2, 'd': 2, 'f': 3})"
      ]
     },
     "execution_count": 17,
     "metadata": {},
     "output_type": "execute_result"
    }
   ],
   "source": [
    "c_str - Counter({'a':10, 'b':1, 'c':1})  # 进行运算操作时，如果数目结果为负的会被直接忽略"
   ]
  },
  {
   "cell_type": "markdown",
   "metadata": {},
   "source": [
    "可以看出Counter除了统计数量，对字典之间做运算也是非常方便的。"
   ]
  },
  {
   "cell_type": "markdown",
   "metadata": {},
   "source": [
    "### 2. defaultdict"
   ]
  },
  {
   "cell_type": "code",
   "execution_count": 19,
   "metadata": {},
   "outputs": [
    {
     "ename": "TypeError",
     "evalue": "first argument must be callable or None",
     "output_type": "error",
     "traceback": [
      "\u001b[0;31m---------------------------------------------------------------------------\u001b[0m",
      "\u001b[0;31mTypeError\u001b[0m                                 Traceback (most recent call last)",
      "\u001b[0;32m<ipython-input-19-3e7a84671f0c>\u001b[0m in \u001b[0;36m<module>\u001b[0;34m()\u001b[0m\n\u001b[1;32m      1\u001b[0m \u001b[0;32mfrom\u001b[0m \u001b[0mcollections\u001b[0m \u001b[0;32mimport\u001b[0m \u001b[0mdefaultdict\u001b[0m\u001b[0;34m\u001b[0m\u001b[0m\n\u001b[1;32m      2\u001b[0m \u001b[0;34m\u001b[0m\u001b[0m\n\u001b[0;32m----> 3\u001b[0;31m \u001b[0mnum\u001b[0m \u001b[0;34m=\u001b[0m \u001b[0mdefaultdict\u001b[0m\u001b[0;34m(\u001b[0m\u001b[0;36m0\u001b[0m\u001b[0;34m)\u001b[0m\u001b[0;34m\u001b[0m\u001b[0m\n\u001b[0m",
      "\u001b[0;31mTypeError\u001b[0m: first argument must be callable or None"
     ]
    }
   ],
   "source": [
    "from collections import defaultdict\n",
    "\n",
    "num = defaultdict(0)  "
   ]
  },
  {
   "cell_type": "code",
   "execution_count": 23,
   "metadata": {},
   "outputs": [
    {
     "data": {
      "text/plain": [
       "defaultdict(<function __main__.<lambda>>,\n",
       "            {'a': 0, 'b': 1, 'c': 2, 'd': 3, 'e': 4, 'f': 5})"
      ]
     },
     "execution_count": 23,
     "metadata": {},
     "output_type": "execute_result"
    }
   ],
   "source": [
    "num = defaultdict(lambda: 0)\n",
    "for index, i in enumerate('abcdef'):\n",
    "    num[i] += index\n",
    "num"
   ]
  },
  {
   "cell_type": "code",
   "execution_count": 24,
   "metadata": {},
   "outputs": [
    {
     "data": {
      "text/plain": [
       "defaultdict(list, {'a': [0], 'b': [1], 'c': [2], 'd': [3], 'e': [4], 'f': [5]})"
      ]
     },
     "execution_count": 24,
     "metadata": {},
     "output_type": "execute_result"
    }
   ],
   "source": [
    "lst = defaultdict(list)\n",
    "for index, i in enumerate('abcdef'):\n",
    "    lst[i].append(index)\n",
    "lst"
   ]
  },
  {
   "cell_type": "markdown",
   "metadata": {},
   "source": [
    "### 3. deque\n",
    "deque是一个双端队列，与list类似，但list不支持左边增删元素，而deque提供了appendleft()和popleft()的支持"
   ]
  },
  {
   "cell_type": "code",
   "execution_count": 32,
   "metadata": {},
   "outputs": [
    {
     "data": {
      "text/plain": [
       "deque([5, 6, 7, 8, 9])"
      ]
     },
     "execution_count": 32,
     "metadata": {},
     "output_type": "execute_result"
    }
   ],
   "source": [
    "from collections import deque\n",
    "\n",
    "dq = deque(maxlen=5)  # 只保留5个元素\n",
    "dq.extend(range(10))\n",
    "dq"
   ]
  },
  {
   "cell_type": "markdown",
   "metadata": {},
   "source": [
    "使用rotate方法让元素前移或后移"
   ]
  },
  {
   "cell_type": "code",
   "execution_count": 35,
   "metadata": {},
   "outputs": [
    {
     "name": "stdout",
     "output_type": "stream",
     "text": [
      "deque(['a', 'b', 'c', 'd', 'e', 'f'])\n",
      "deque(['e', 'f', 'a', 'b', 'c', 'd'])\n",
      "deque(['a', 'b', 'c', 'd', 'e', 'f'])\n"
     ]
    }
   ],
   "source": [
    "dq = deque('abcdef')\n",
    "print(dq)\n",
    "\n",
    "dq.rotate(2)  # 所有元素向前移动2个位置\n",
    "print(dq)\n",
    "\n",
    "dq.rotate(-2) # 所有元素向后移动2个位置\n",
    "print(dq)"
   ]
  },
  {
   "cell_type": "markdown",
   "metadata": {},
   "source": [
    "### 4. nametuple"
   ]
  },
  {
   "cell_type": "markdown",
   "metadata": {},
   "source": [
    "namedtuple继承于tuple，最大特点是给元组每个位置的元素设置了别名，增加程序的可读性，而且namedtuple是可修改的"
   ]
  },
  {
   "cell_type": "code",
   "execution_count": 2,
   "metadata": {},
   "outputs": [
    {
     "data": {
      "text/plain": [
       "point(x=10, y=20)"
      ]
     },
     "execution_count": 2,
     "metadata": {},
     "output_type": "execute_result"
    }
   ],
   "source": [
    "from collections import namedtuple\n",
    "\n",
    "Point = namedtuple('point', ['x', 'y'])\n",
    "p = Point(10, y=20)\n",
    "p"
   ]
  },
  {
   "cell_type": "code",
   "execution_count": 4,
   "metadata": {},
   "outputs": [
    {
     "name": "stdout",
     "output_type": "stream",
     "text": [
      "30\n",
      "30\n",
      "30\n"
     ]
    }
   ],
   "source": [
    "print(p.x+p.y)\n",
    "\n",
    "print(p[0]+p[1])  # 类似普通元组一样通过下标访问元素\n",
    "\n",
    "x, y = p  # 元组拆分\n",
    "print(x+y)"
   ]
  },
  {
   "cell_type": "code",
   "execution_count": 10,
   "metadata": {},
   "outputs": [
    {
     "name": "stdout",
     "output_type": "stream",
     "text": [
      "point(x=20, y=20)\n",
      "OrderedDict([('x', 10), ('y', 20)])\n"
     ]
    }
   ],
   "source": [
    "print(p._replace(x=20))  # 修改元素的值\n",
    "print(p._asdict())   # 转换成字典（有序字典）"
   ]
  },
  {
   "cell_type": "markdown",
   "metadata": {},
   "source": [
    "### 5. OrderedDict\n",
    "OrderedDict继承与dict, 元素有序存储，顺序为按元素插入时的顺序"
   ]
  },
  {
   "cell_type": "code",
   "execution_count": 15,
   "metadata": {},
   "outputs": [
    {
     "name": "stdout",
     "output_type": "stream",
     "text": [
      "OrderedDict([('k1', 'v1'), ('k2', 'v2'), ('k3', 'v3')])\n"
     ]
    }
   ],
   "source": [
    "from collections import OrderedDict\n",
    "\n",
    "dic = OrderedDict()\n",
    "dic['k1'] = 'v1'\n",
    "dic['k2'] = 'v2'\n",
    "dic['k3'] = 'v3'\n",
    "print(dic)"
   ]
  },
  {
   "cell_type": "code",
   "execution_count": 24,
   "metadata": {},
   "outputs": [
    {
     "data": {
      "text/plain": [
       "OrderedDict([('a', 0),\n",
       "             ('b', 1),\n",
       "             ('c', 2),\n",
       "             ('d', 3),\n",
       "             ('e', 4),\n",
       "             ('f', 5),\n",
       "             ('g', 6)])"
      ]
     },
     "execution_count": 24,
     "metadata": {},
     "output_type": "execute_result"
    }
   ],
   "source": [
    "# 按元素插入的顺序排序，一般用于字典排序\n",
    "d = {v: i for i, v in enumerate('abcdefg')}\n",
    "od = OrderedDict(sorted(d.items(), key=lambda x:x[1]))  # 无序字典d排序后，转换成有序字典\n",
    "od  # 遍历方式一样  for k, v in od.items()"
   ]
  }
 ],
 "metadata": {
  "kernelspec": {
   "display_name": "Python 3",
   "language": "python",
   "name": "python3"
  },
  "language_info": {
   "codemirror_mode": {
    "name": "ipython",
    "version": 3
   },
   "file_extension": ".py",
   "mimetype": "text/x-python",
   "name": "python",
   "nbconvert_exporter": "python",
   "pygments_lexer": "ipython3",
   "version": "3.6.3"
  }
 },
 "nbformat": 4,
 "nbformat_minor": 2
}

{
 "cells": [
  {
   "cell_type": "markdown",
   "metadata": {},
   "source": [
    "### 1. partial\n",
    "中偏函数 partial(func, \\*args, \\**keywords)。\n",
    "函数在执行时，要带上所有必要的参数进行调用。但是，有时参数可以在函数被调用之前提前获知。这种情况下，一个函数有一个或多个参数预先就能用上，以便函数能用更少的参数进行调用。"
   ]
  },
  {
   "cell_type": "code",
   "execution_count": 6,
   "metadata": {},
   "outputs": [
    {
     "name": "stdout",
     "output_type": "stream",
     "text": [
      "3 1 2\n",
      "6\n"
     ]
    }
   ],
   "source": [
    "from functools import partial\n",
    "\n",
    "def add(a, b, c):\n",
    "    print(a, b, c)\n",
    "    return a+b+c\n",
    "\n",
    "add1 = partial(add, 3)  # add()参数a固定值为3  (接收无名参数时，会从第一个参数开始)\n",
    "print(add1(1, 2))"
   ]
  },
  {
   "cell_type": "code",
   "execution_count": 7,
   "metadata": {},
   "outputs": [
    {
     "name": "stdout",
     "output_type": "stream",
     "text": [
      "1 2 3\n",
      "6\n"
     ]
    }
   ],
   "source": [
    "add2 = partial(add, c=3)  # add()参数c固定值为3  （接收关键字参数，可以指定需要固定的参数）\n",
    "print(add2(1, 2)) "
   ]
  },
  {
   "cell_type": "markdown",
   "metadata": {},
   "source": [
    "### 2. wraps"
   ]
  },
  {
   "cell_type": "code",
   "execution_count": 14,
   "metadata": {},
   "outputs": [
    {
     "name": "stdout",
     "output_type": "stream",
     "text": [
      "with_logging\n",
      "with_logging doc\n"
     ]
    }
   ],
   "source": [
    "def logged(func):\n",
    "    def with_logging(*args, **kwargs):\n",
    "        '''with_logging doc'''\n",
    "        print(func.__name__ + \" was called\")\n",
    "        return func(*args, **kwargs)\n",
    "    return with_logging\n",
    " \n",
    "@logged\n",
    "def func(x):\n",
    "   '''func doc'''\n",
    "   return x + x * x\n",
    " \n",
    "print(func.__name__)\n",
    "print(func.__doc__)"
   ]
  },
  {
   "cell_type": "markdown",
   "metadata": {},
   "source": [
    "如上面结果所示，函数func被logged修饰后，原本的一些信息被覆盖掉了。而functools.wraps 则可以将原函数对象的指定属性复制给包装函数对象。"
   ]
  },
  {
   "cell_type": "code",
   "execution_count": 16,
   "metadata": {},
   "outputs": [
    {
     "name": "stdout",
     "output_type": "stream",
     "text": [
      "func\n",
      "func doc\n"
     ]
    }
   ],
   "source": [
    "from functools import wraps\n",
    "def logged(func):\n",
    "    @wraps(func)\n",
    "    def with_logging(*args, **kwargs):\n",
    "        '''with_logging doc'''\n",
    "        print(func.__name__ + \" was called\")\n",
    "        return func(*args, **kwargs)\n",
    "    return with_logging\n",
    " \n",
    "@logged\n",
    "def func(x):\n",
    "   '''func doc'''\n",
    "   return x + x * x\n",
    " \n",
    "print(func.__name__)\n",
    "print(func.__doc__)"
   ]
  }
 ],
 "metadata": {
  "kernelspec": {
   "display_name": "Python 3",
   "language": "python",
   "name": "python3"
  },
  "language_info": {
   "codemirror_mode": {
    "name": "ipython",
    "version": 3
   },
   "file_extension": ".py",
   "mimetype": "text/x-python",
   "name": "python",
   "nbconvert_exporter": "python",
   "pygments_lexer": "ipython3",
   "version": "3.6.3"
  }
 },
 "nbformat": 4,
 "nbformat_minor": 2
}
